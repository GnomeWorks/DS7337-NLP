{
 "cells": [
  {
   "cell_type": "markdown",
   "metadata": {},
   "source": [
    "### MacVittie Homework 4"
   ]
  },
  {
   "cell_type": "code",
   "execution_count": 16,
   "metadata": {},
   "outputs": [],
   "source": [
    "import re\n",
    "import nltk\n",
    "from nltk import pos_tag\n",
    "from nltk.tag import UnigramTagger\n",
    "from nltk.corpus import brown\n",
    "from nltk import word_tokenize"
   ]
  },
  {
   "cell_type": "code",
   "execution_count": 33,
   "metadata": {},
   "outputs": [
    {
     "name": "stdout",
     "output_type": "stream",
     "text": [
      "[nltk_data] Downloading package brown to\n",
      "[nltk_data]     C:\\Users\\kmacvitt\\AppData\\Roaming\\nltk_data...\n",
      "[nltk_data]   Package brown is already up-to-date!\n",
      "[nltk_data] Downloading package averaged_perceptron_tagger to\n",
      "[nltk_data]     C:\\Users\\kmacvitt\\AppData\\Roaming\\nltk_data...\n",
      "[nltk_data]   Unzipping taggers\\averaged_perceptron_tagger.zip.\n"
     ]
    },
    {
     "data": {
      "text/plain": [
       "True"
      ]
     },
     "execution_count": 33,
     "metadata": {},
     "output_type": "execute_result"
    }
   ],
   "source": [
    "nltk.download('brown')\n",
    "nltk.download('averaged_perceptron_tagger')"
   ]
  },
  {
   "cell_type": "markdown",
   "metadata": {},
   "source": [
    "__1)__ Run one of the part-of-speech (POS) taggers available in Python. \n",
    "\n",
    "&emsp;_a)_ Find the longest sentence you can, longer than 10 words, that the POS tagger tags correctly. Show the input and output.\n",
    "\n",
    "&emsp;_b)_ Find the shortest sentence you can, shorter than 10 words, that the POS tagger fails to tag 100 percent correctly. Show the input and output. Explain your conjecture as to why the tagger might have been less than perfect with this sentence.\n"
   ]
  },
  {
   "cell_type": "code",
   "execution_count": 11,
   "metadata": {},
   "outputs": [],
   "source": [
    "url = \"https://www.wbay.com/content/news/Driver-charged-with-OWI-homicide-for-I-41-fatal-crash-420282133.html\""
   ]
  },
  {
   "cell_type": "code",
   "execution_count": 12,
   "metadata": {},
   "outputs": [],
   "source": [
    "long = \"A Green Bay man accused of a crash on Interstate 41 Sunday that killed a man from Colorado is charged with homicide by intoxicated use of a motor vehicle, causing injury while operating under the influence, and refusing to take a test for intoxication after arrest.\""
   ]
  },
  {
   "cell_type": "code",
   "execution_count": 13,
   "metadata": {},
   "outputs": [],
   "source": [
    "long_tokens = [i for i in re.split(\"[^a-zA-z]\", long) if not re.search(\"[^a-zA-z]\", i) and len(i) > 0]"
   ]
  },
  {
   "cell_type": "code",
   "execution_count": 14,
   "metadata": {},
   "outputs": [
    {
     "name": "stdout",
     "output_type": "stream",
     "text": [
      "A Green Bay man accused of a crash on Interstate 41 Sunday that killed a man from Colorado is charged with homicide by intoxicated use of a motor vehicle, causing injury while operating under the influence, and refusing to take a test for intoxication after arrest.\n"
     ]
    }
   ],
   "source": [
    "print(long)"
   ]
  },
  {
   "cell_type": "code",
   "execution_count": 19,
   "metadata": {},
   "outputs": [],
   "source": [
    "tagger = UnigramTagger(brown.tagged_sents(categories='news'))"
   ]
  },
  {
   "cell_type": "code",
   "execution_count": 20,
   "metadata": {},
   "outputs": [
    {
     "data": {
      "text/plain": [
       "[('A', 'AT'),\n",
       " ('Green', 'JJ-TL'),\n",
       " ('Bay', 'NN-TL'),\n",
       " ('man', 'NN'),\n",
       " ('accused', 'VBN'),\n",
       " ('of', 'IN'),\n",
       " ('a', 'AT'),\n",
       " ('crash', 'NN'),\n",
       " ('on', 'IN'),\n",
       " ('Interstate', 'JJ-TL'),\n",
       " ('Sunday', 'NR'),\n",
       " ('that', 'CS'),\n",
       " ('killed', 'VBN'),\n",
       " ('a', 'AT'),\n",
       " ('man', 'NN'),\n",
       " ('from', 'IN'),\n",
       " ('Colorado', 'NP'),\n",
       " ('is', 'BEZ'),\n",
       " ('charged', 'VBN'),\n",
       " ('with', 'IN'),\n",
       " ('homicide', None),\n",
       " ('by', 'IN'),\n",
       " ('intoxicated', None),\n",
       " ('use', 'VB'),\n",
       " ('of', 'IN'),\n",
       " ('a', 'AT'),\n",
       " ('motor', 'NN'),\n",
       " ('vehicle', 'NN'),\n",
       " ('causing', None),\n",
       " ('injury', 'NN'),\n",
       " ('while', 'CS'),\n",
       " ('operating', 'VBG'),\n",
       " ('under', 'IN'),\n",
       " ('the', 'AT'),\n",
       " ('influence', 'VB'),\n",
       " ('and', 'CC'),\n",
       " ('refusing', None),\n",
       " ('to', 'TO'),\n",
       " ('take', 'VB'),\n",
       " ('a', 'AT'),\n",
       " ('test', 'NN'),\n",
       " ('for', 'IN'),\n",
       " ('intoxication', None),\n",
       " ('after', 'IN'),\n",
       " ('arrest', 'NN')]"
      ]
     },
     "execution_count": 20,
     "metadata": {},
     "output_type": "execute_result"
    }
   ],
   "source": [
    "tagger.tag(long_tokens)"
   ]
  },
  {
   "cell_type": "code",
   "execution_count": 26,
   "metadata": {},
   "outputs": [
    {
     "name": "stdout",
     "output_type": "stream",
     "text": [
      "He described the tires going into the gravel, and the car doing a complete 360-degree spin as it went across the lanes of traffic and into the ditch.\n"
     ]
    },
    {
     "data": {
      "text/plain": [
       "[('He', 'PPS'),\n",
       " ('described', 'VBD'),\n",
       " ('the', 'AT'),\n",
       " ('tires', 'NNS'),\n",
       " ('going', 'VBG'),\n",
       " ('into', 'IN'),\n",
       " ('the', 'AT'),\n",
       " ('gravel', None),\n",
       " ('and', 'CC'),\n",
       " ('the', 'AT'),\n",
       " ('car', 'NN'),\n",
       " ('doing', 'VBG'),\n",
       " ('a', 'AT'),\n",
       " ('complete', 'JJ'),\n",
       " ('degree', 'NN'),\n",
       " ('spin', None),\n",
       " ('as', 'CS'),\n",
       " ('it', 'PPS'),\n",
       " ('went', 'VBD'),\n",
       " ('across', 'IN'),\n",
       " ('the', 'AT'),\n",
       " ('lanes', None),\n",
       " ('of', 'IN'),\n",
       " ('traffic', 'NN'),\n",
       " ('and', 'CC'),\n",
       " ('into', 'IN'),\n",
       " ('the', 'AT'),\n",
       " ('ditch', None)]"
      ]
     },
     "execution_count": 26,
     "metadata": {},
     "output_type": "execute_result"
    }
   ],
   "source": [
    "long = \"He described the tires going into the gravel, and the car doing a complete 360-degree spin as it went across the lanes of traffic and into the ditch.\"\n",
    "long_tokens = [i for i in re.split(\"[^a-zA-z]\", long) if not re.search(\"[^a-zA-z]\", i) and len(i) > 0]\n",
    "print(long)\n",
    "tagger.tag(long_tokens)"
   ]
  },
  {
   "cell_type": "code",
   "execution_count": 27,
   "metadata": {},
   "outputs": [
    {
     "name": "stdout",
     "output_type": "stream",
     "text": [
      "The OWI homicide charge carries up to 25 years in prison if convicted.\n"
     ]
    },
    {
     "data": {
      "text/plain": [
       "[('The', 'AT'),\n",
       " ('OWI', None),\n",
       " ('homicide', None),\n",
       " ('charge', 'NN'),\n",
       " ('carries', 'VBZ'),\n",
       " ('up', 'RP'),\n",
       " ('to', 'TO'),\n",
       " ('years', 'NNS'),\n",
       " ('in', 'IN'),\n",
       " ('prison', 'NN'),\n",
       " ('if', 'CS'),\n",
       " ('convicted', 'VBN')]"
      ]
     },
     "execution_count": 27,
     "metadata": {},
     "output_type": "execute_result"
    }
   ],
   "source": [
    "long = \"The OWI homicide charge carries up to 25 years in prison if convicted.\"\n",
    "long_tokens = [i for i in re.split(\"[^a-zA-z]\", long) if not re.search(\"[^a-zA-z]\", i) and len(i) > 0]\n",
    "print(long)\n",
    "tagger.tag(long_tokens)"
   ]
  },
  {
   "cell_type": "code",
   "execution_count": 29,
   "metadata": {},
   "outputs": [
    {
     "name": "stdout",
     "output_type": "stream",
     "text": [
      "His passenger told investigators it appeared Smyser didn't know I-41 narrows from three lanes to two, and first braked to get behind a vehicle in the next lane, then accelerated to get ahead of it.\n"
     ]
    },
    {
     "data": {
      "text/plain": [
       "[('His', 'PP$'),\n",
       " ('passenger', 'NN'),\n",
       " ('told', 'VBD'),\n",
       " ('investigators', 'NNS'),\n",
       " ('it', 'PPS'),\n",
       " ('appeared', 'VBD'),\n",
       " ('Smyser', None),\n",
       " ('didn', None),\n",
       " ('t', None),\n",
       " ('know', 'VB'),\n",
       " ('I', 'PPSS'),\n",
       " ('narrows', None),\n",
       " ('from', 'IN'),\n",
       " ('three', 'CD'),\n",
       " ('lanes', None),\n",
       " ('to', 'TO'),\n",
       " ('two', 'CD'),\n",
       " ('and', 'CC'),\n",
       " ('first', 'OD'),\n",
       " ('braked', None),\n",
       " ('to', 'TO'),\n",
       " ('get', 'VB'),\n",
       " ('behind', 'IN'),\n",
       " ('a', 'AT'),\n",
       " ('vehicle', 'NN'),\n",
       " ('in', 'IN'),\n",
       " ('the', 'AT'),\n",
       " ('next', 'AP'),\n",
       " ('lane', None),\n",
       " ('then', 'RB'),\n",
       " ('accelerated', 'VBN'),\n",
       " ('to', 'TO'),\n",
       " ('get', 'VB'),\n",
       " ('ahead', 'RB'),\n",
       " ('of', 'IN'),\n",
       " ('it', 'PPS')]"
      ]
     },
     "execution_count": 29,
     "metadata": {},
     "output_type": "execute_result"
    }
   ],
   "source": [
    "long = \"His passenger told investigators it appeared Smyser didn't know I-41 narrows from three lanes to two, and first braked to get behind a vehicle in the next lane, then accelerated to get ahead of it.\"\n",
    "long_tokens = [i for i in re.split(\"[^a-zA-z]\", long) if not re.search(\"[^a-zA-z]\", i) and len(i) > 0]\n",
    "print(long)\n",
    "tagger.tag(long_tokens)"
   ]
  },
  {
   "cell_type": "code",
   "execution_count": 30,
   "metadata": {},
   "outputs": [
    {
     "name": "stdout",
     "output_type": "stream",
     "text": [
      "He was treated at a hospital, where officers say he refused to have his blood drawn to be tested for alcohol, so a search warrant was obtained.\n"
     ]
    },
    {
     "data": {
      "text/plain": [
       "[('He', 'PPS'),\n",
       " ('was', 'BEDZ'),\n",
       " ('treated', 'VBN'),\n",
       " ('at', 'IN'),\n",
       " ('a', 'AT'),\n",
       " ('hospital', 'NN'),\n",
       " ('where', 'WRB'),\n",
       " ('officers', 'NNS'),\n",
       " ('say', 'VB'),\n",
       " ('he', 'PPS'),\n",
       " ('refused', 'VBD'),\n",
       " ('to', 'TO'),\n",
       " ('have', 'HV'),\n",
       " ('his', 'PP$'),\n",
       " ('blood', 'NN'),\n",
       " ('drawn', 'VBN'),\n",
       " ('to', 'TO'),\n",
       " ('be', 'BE'),\n",
       " ('tested', None),\n",
       " ('for', 'IN'),\n",
       " ('alcohol', None),\n",
       " ('so', 'QL'),\n",
       " ('a', 'AT'),\n",
       " ('search', 'NN'),\n",
       " ('warrant', 'NN'),\n",
       " ('was', 'BEDZ'),\n",
       " ('obtained', 'VBN')]"
      ]
     },
     "execution_count": 30,
     "metadata": {},
     "output_type": "execute_result"
    }
   ],
   "source": [
    "long = \"He was treated at a hospital, where officers say he refused to have his blood drawn to be tested for alcohol, so a search warrant was obtained.\"\n",
    "long_tokens = [i for i in re.split(\"[^a-zA-z]\", long) if not re.search(\"[^a-zA-z]\", i) and len(i) > 0]\n",
    "print(long)\n",
    "tagger.tag(long_tokens)"
   ]
  },
  {
   "cell_type": "markdown",
   "metadata": {},
   "source": [
    "How does it not know the word \"alcohol\"? That's absurd.\n",
    "\n",
    "At this point, I've tried just about every sentence in this article that doesn't have a name, which I wouldn't expect it to recognize, anyway."
   ]
  },
  {
   "cell_type": "code",
   "execution_count": 21,
   "metadata": {},
   "outputs": [],
   "source": [
    "short = \"Traffic was at a standstill for hours.\""
   ]
  },
  {
   "cell_type": "code",
   "execution_count": 22,
   "metadata": {},
   "outputs": [],
   "source": [
    "short_tokens = [i for i in re.split(\"[^a-zA-z]\", short) if not re.search(\"[^a-zA-z]\", i) and len(i) > 0]"
   ]
  },
  {
   "cell_type": "code",
   "execution_count": 31,
   "metadata": {},
   "outputs": [
    {
     "name": "stdout",
     "output_type": "stream",
     "text": [
      "Traffic was at a standstill for hours.\n"
     ]
    },
    {
     "data": {
      "text/plain": [
       "[('Traffic', 'NN'),\n",
       " ('was', 'BEDZ'),\n",
       " ('at', 'IN'),\n",
       " ('a', 'AT'),\n",
       " ('standstill', None),\n",
       " ('for', 'IN'),\n",
       " ('hours', 'NNS')]"
      ]
     },
     "execution_count": 31,
     "metadata": {},
     "output_type": "execute_result"
    }
   ],
   "source": [
    "print(short)\n",
    "tagger.tag(short_tokens)"
   ]
  },
  {
   "cell_type": "markdown",
   "metadata": {},
   "source": [
    "\"Standstill\" is a bit of an odd duck, in the English language; I've also seen it hyphenated, so it's not terribly surprising the tagger didn't know what to make of the word."
   ]
  },
  {
   "cell_type": "markdown",
   "metadata": {},
   "source": [
    "__2)__ Run a different POS tagger in Python. Process the same two sentences from question 1.\n",
    "\n",
    "&emsp;_a)_ Does it produce the same or different output?\n",
    "\n",
    "&emsp;_b)_ Explain any differences as best you can.\n"
   ]
  },
  {
   "cell_type": "code",
   "execution_count": 35,
   "metadata": {},
   "outputs": [
    {
     "data": {
      "text/plain": [
       "[('He', 'PRP'),\n",
       " ('was', 'VBD'),\n",
       " ('treated', 'VBN'),\n",
       " ('at', 'IN'),\n",
       " ('a', 'DT'),\n",
       " ('hospital', 'NN'),\n",
       " ('where', 'WRB'),\n",
       " ('officers', 'NNS'),\n",
       " ('say', 'VBP'),\n",
       " ('he', 'PRP'),\n",
       " ('refused', 'VBD'),\n",
       " ('to', 'TO'),\n",
       " ('have', 'VB'),\n",
       " ('his', 'PRP$'),\n",
       " ('blood', 'NN'),\n",
       " ('drawn', 'NN'),\n",
       " ('to', 'TO'),\n",
       " ('be', 'VB'),\n",
       " ('tested', 'VBN'),\n",
       " ('for', 'IN'),\n",
       " ('alcohol', 'NN'),\n",
       " ('so', 'RB'),\n",
       " ('a', 'DT'),\n",
       " ('search', 'NN'),\n",
       " ('warrant', 'NN'),\n",
       " ('was', 'VBD'),\n",
       " ('obtained', 'VBN')]"
      ]
     },
     "execution_count": 35,
     "metadata": {},
     "output_type": "execute_result"
    }
   ],
   "source": [
    "pos_tag(long_tokens)"
   ]
  },
  {
   "cell_type": "code",
   "execution_count": 36,
   "metadata": {},
   "outputs": [
    {
     "data": {
      "text/plain": [
       "[('Traffic', 'NN'),\n",
       " ('was', 'VBD'),\n",
       " ('at', 'IN'),\n",
       " ('a', 'DT'),\n",
       " ('standstill', 'NN'),\n",
       " ('for', 'IN'),\n",
       " ('hours', 'NNS')]"
      ]
     },
     "execution_count": 36,
     "metadata": {},
     "output_type": "execute_result"
    }
   ],
   "source": [
    "pos_tag(short_tokens)"
   ]
  },
  {
   "cell_type": "code",
   "execution_count": null,
   "metadata": {},
   "outputs": [],
   "source": []
  }
 ],
 "metadata": {
  "kernelspec": {
   "display_name": "Python 3",
   "language": "python",
   "name": "python3"
  },
  "language_info": {
   "codemirror_mode": {
    "name": "ipython",
    "version": 3
   },
   "file_extension": ".py",
   "mimetype": "text/x-python",
   "name": "python",
   "nbconvert_exporter": "python",
   "pygments_lexer": "ipython3",
   "version": "3.6.6"
  }
 },
 "nbformat": 4,
 "nbformat_minor": 2
}
