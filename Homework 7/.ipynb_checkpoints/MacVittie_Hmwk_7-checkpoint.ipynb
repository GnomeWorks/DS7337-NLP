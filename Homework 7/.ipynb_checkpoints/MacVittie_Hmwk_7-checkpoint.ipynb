{
 "cells": [
  {
   "cell_type": "code",
   "execution_count": 6,
   "metadata": {},
   "outputs": [],
   "source": [
    "from bs4 import BeautifulSoup, SoupStrainer\n",
    "\n",
    "from sklearn.feature_extraction.text import TfidfVectorizer\n",
    "from sklearn.decomposition import NMF, LatentDirichletAllocation\n",
    "from sklearn.manifold import TSNE\n",
    "\n",
    "from nltk import word_tokenize\n",
    "from nltk.corpus import stopwords, wordnet\n",
    "from nltk.stem import LancasterStemmer\n",
    "\n",
    "import re\n",
    "import requests\n",
    "\n",
    "import pandas as pd\n",
    "import seaborn as sn\n",
    "import numpy as np\n",
    "\n",
    "import matplotlib.pyplot as plt"
   ]
  },
  {
   "cell_type": "markdown",
   "metadata": {},
   "source": [
    "### MacVittie - Homework 7\n",
    "Cluster the reviews that you collected in homework 5, by doing the following:\n",
    "\n",
    "**1)**\tIn Python, select any one of the clustering methods covered in this course. Run it over the collection of reviews, and show at least two different ways of clustering the reviews, e.g., changing k in k-Means clustering or changing where you “cut” in Agnes or Diana.  \n",
    "\n",
    "```\n",
    "I opted to use an LDA thing here. To differentiate the two sets, I modified the parameters a bit: in Setting 1, I \n",
    "used 20 topics, while in Setting 2, I used 6. I also adjusted the other parameters a bit, but I think that topics \n",
    "is the primary mechanism of change here.\n",
    "```\n",
    "\n",
    "**2)**\tTry to write a short phrase to characterize (give a natural interpretation of) what each cluster is generally centered on semantically. Is this hard to do in some cases? If so, make note of that fact. \n",
    "\n",
    "```\n",
    "Some of the clusters are hard to define, but others are relatively simple.\n",
    "\n",
    "In Setting 1, topic 0 is \"on real movie like think ev film life love people would act way see time.\" I think that\n",
    "there are a number of key words here - 'real,' 'think,' 'life,' 'love,' 'people,' and 'act' all seem primary, and\n",
    "there are a number of films on the list to which these ideas might apply. I think this topic is trying to get at the\n",
    "notion of whether or not people in real life behave the way as presented in some of the films - or, people are seeing\n",
    "parallels between real-world behavior and that in the films.\n",
    "\n",
    "In Setting 2, because the phrases are shorter, it is a bit harder to determine what is going on. \"oona timers love \n",
    "father end rom meet true would wear\" has... essentially no meaning, I think. While this is similar to a topic that\n",
    "appeared in Setting 1, I think it had less impact there because there were more topics, overall, into which reviews\n",
    "could be classified.\n",
    "\n",
    "```\n",
    "\n",
    "**3)**\tExplain which of the two clustering results from question 1 is preferable (if one of them is), and why. \n",
    "\n",
    "```\n",
    "I think that Setting 1 is preferable. While fewer topics seems sensible, the clustering shown in the scatterplots\n",
    "below indicates to me that more topics has better results: there are clear groupings in Setting 1, while Setting 2\n",
    "has some very odd behaviors in how reviews are classified, with the algorithm able to classify fewer films from\n",
    "the reviews (only 3 clear clusters, as opposed to 8).\n",
    "```"
   ]
  },
  {
   "cell_type": "code",
   "execution_count": 7,
   "metadata": {},
   "outputs": [],
   "source": [
    "# first, set up our movie review urls\n",
    "# movie list is my top 10 + honorable mention: https://www.imdb.com/list/ls050974899/\n",
    "\n",
    "review_urls = {\n",
    "    'last_night': 'https://www.imdb.com/title/tt1294688/reviews?ref_=tt_urv',\n",
    "    'vanilla_sky': 'https://www.imdb.com/title/tt0259711/reviews?ref_=tt_urv',\n",
    "    'lost_in_translation': 'https://www.imdb.com/title/tt0335266/reviews?ref_=tt_urv',\n",
    "    'never_let_me_go': 'https://www.imdb.com/title/tt1334260/reviews?ref_=tt_urv',\n",
    "    'gattaca': 'https://www.imdb.com/title/tt0119177/reviews?ref_=tt_urv',\n",
    "    'american_beauty': 'https://www.imdb.com/title/tt0169547/reviews?ref_=tt_urv',\n",
    "    'megamind': 'https://www.imdb.com/title/tt1001526/reviews?ref_=tt_urv',\n",
    "    'man_from_earth': 'https://www.imdb.com/title/tt0756683/reviews?ref_=tt_urv',\n",
    "    'another_earth': 'https://www.imdb.com/title/tt1549572/reviews?ref_=tt_urv',\n",
    "    'timer': 'https://www.imdb.com/title/tt1179794/reviews?ref_=tt_urv',\n",
    "    '310_to_yuma': 'https://www.imdb.com/title/tt0381849/reviews?ref_=tt_urv',\n",
    "}"
   ]
  },
  {
   "cell_type": "code",
   "execution_count": 8,
   "metadata": {},
   "outputs": [],
   "source": [
    "stop_list = []"
   ]
  },
  {
   "cell_type": "code",
   "execution_count": 9,
   "metadata": {},
   "outputs": [],
   "source": [
    "def get_txt(url):\n",
    "    return requests.get(url).text\n",
    "\n",
    "\n",
    "def get_links_from(html):\n",
    "    tags = BeautifulSoup(html, 'html.parser', parse_only=SoupStrainer('a', href=True))\n",
    "    urls = [str(tag.attrs['href']) for tag in tags]\n",
    "    return urls\n",
    "\n",
    "\n",
    "def get_review_urls(links):\n",
    "    url_template = 'https://www.imdb.com{}'\n",
    "    return [url_template.format(link) for link in links]\n",
    "\n",
    "\n",
    "def link(link):\n",
    "    if '/review/' in link:\n",
    "        return True\n",
    "    return False\n",
    "\n",
    "\n",
    "def get_links(links):\n",
    "    links = filter(link, links)\n",
    "    unique_links = set(links)\n",
    "    return list(unique_links)\n",
    "\n",
    "\n",
    "def strain(name, attrs):\n",
    "    if name == 'div' and dict(attrs).get('class', None) == 'content':\n",
    "        return True\n",
    "    return False\n",
    "\n",
    "\n",
    "def clean_txt(text):\n",
    "    return re.split('\\\\n\\\\n\\s+\\d+ out of \\d+', text)[0]\n",
    "\n",
    "\n",
    "def get_review_from_url(url):\n",
    "    html = get_txt(url)\n",
    "    tags = BeautifulSoup(html, 'html.parser', parse_only=SoupStrainer(strain))\n",
    "    review = clean_txt(tags.text)\n",
    "    return review\n",
    "\n",
    "\n",
    "def get_review_from_site(url):\n",
    "    reviews = []\n",
    "\n",
    "    reviews_home_text = get_txt(url)\n",
    "    all_links = get_links_from(reviews_home_text)\n",
    "    links = get_links(all_links)\n",
    "\n",
    "    review_urls = get_review_urls(links)\n",
    "    for url in review_urls:\n",
    "        reviews.append(get_review_from_url(url))\n",
    "    return reviews\n",
    "\n",
    "\n",
    "def get_reviews_from_all_sites(url_list):\n",
    "    all_reviews = []\n",
    "    review_titles = url_list.keys()\n",
    "    for title in review_titles:\n",
    "        review_url = review_urls[title]\n",
    "        all_reviews = all_reviews + get_review_from_site(review_url)\n",
    "    return all_reviews\n",
    "\n",
    "\n",
    "def sentences_to_words(sentences):\n",
    "    return [word_tokenize(s) for s in sentences]\n",
    "\n",
    "\n",
    "def alphanumerize(words):\n",
    "    regex_matcher = '^[a-zA-Z0-9]+$'\n",
    "    return [w for w in words if re.match(regex_matcher, w)]\n",
    "\n",
    "\n",
    "def lemmatize_word(word):\n",
    "    stemmer = LancasterStemmer()\n",
    "    lemma_word = stemmer.stem(word)\n",
    "    if wordnet.synsets(lemma_word):\n",
    "        return lemma_word\n",
    "    else:\n",
    "        return word    \n",
    "    \n",
    "    \n",
    "def lemmatize_words(words):\n",
    "    return [lemmatize_word(w) for w in words]\n",
    "\n",
    "\n",
    "def remove_stops(words):\n",
    "    return [w for w in words if w not in stop_words]\n",
    "\n",
    "\n",
    "def preprocess_documents(docs):\n",
    "    d_format_words = [d.lower().strip() for d in docs]\n",
    "    docs_of_words = sentences_to_words(d_format_words)\n",
    "    words_with_chars = [remove_stops(w) for w in docs_of_words]\n",
    "    content_words = [alphanumerize(c) for c in words_with_chars]\n",
    "    lemmatized = [lemmatize_words(w) for w in content_words]\n",
    "    return lemmatized \n",
    "\n",
    "\n",
    "def topics_to_map(model, feature_names, no_top_words):\n",
    "    map = []\n",
    "    for topic_idx, topic in enumerate(model.components_):\n",
    "        s = \" \".join([feature_names[i] for i in topic.argsort()[:-no_top_words - 1:-1]])\n",
    "        map.append(s)\n",
    "    return map\n",
    "\n",
    "\n",
    "def display_topics(model, feature_names, no_top_words):\n",
    "    for topic_idx, topic in enumerate(model.components_):\n",
    "        print (\"Topic {}:\".format(topic_idx), end=' ')\n",
    "        stuff = \" \".join([feature_names[i] for i in topic.argsort()[:-no_top_words - 1:-1]])\n",
    "        print (stuff)"
   ]
  },
  {
   "cell_type": "code",
   "execution_count": 10,
   "metadata": {},
   "outputs": [],
   "source": [
    "all_reviews = get_reviews_from_all_sites(review_urls)"
   ]
  },
  {
   "cell_type": "code",
   "execution_count": 11,
   "metadata": {},
   "outputs": [],
   "source": [
    "# removing: movie titles; act(or/ress) names; director names; character names; misspellings of names; country names; \n",
    "#      non-English names of films; other proper names (studios, fictional characters, etc)\n",
    "custom_stop_words = [ 'last', 'night', 'vanilla', 'sky', 'lost', 'in', 'translation', 'gattaca', 'american', 'beauty', \n",
    "                     'megamind', 'the', 'man', 'from', 'earth', 'another', 'timer', 'to', 'yuma', 'keira', 'knightley', \n",
    "                     'sam', 'worthington', 'eva', 'mendes', 'guillaume', 'canet', 'cameron', 'crowe', 'tom', 'cruise', \n",
    "                     'penelope', 'cruz', 'cameron', 'diaz', 'kurt', 'russell', 'sofia', 'coppola', 'bill', 'murray', \n",
    "                     'scarlett', 'johansson', 'giovanni', 'ribisi', 'anna', 'faris', 'mark', 'romanek', 'carey', \n",
    "                     'mulligan', 'andrew', 'garfield', 'izzy', 'meikle-small', 'andrew', 'niccol', 'ethan', 'hawke', \n",
    "                     'uma', 'thurman', 'jude', 'law', 'gore', 'vidal', 'kevin', 'spacey', 'annette', 'bening', 'thora', \n",
    "                     'birch', 'wes', 'bentley', 'tom', 'mcgrath', 'will', 'ferrell', 'jonah', 'hill', 'brad', 'pitt',\n",
    "                     'tina', 'fey', 'richard', 'schenkman', 'david', 'lee', 'smith', 'tony', 'todd', 'john', 'billingsley', \n",
    "                     'ellen', 'crawford', 'mike', 'cahill', 'brit', 'marling', 'william', 'mapother', 'matthew-lee', \n",
    "                     'erlbach', 'DJ', 'flava', 'jac', 'schaeffer', 'emma', 'caulfield', 'ford', 'scott', 'holroyd', 'kali', \n",
    "                     'rocha', 'katherine', 'von', 'till', 'james', 'mangold', 'russell', 'crowe', 'christian', 'bale', \n",
    "                     'ben', 'foster', 'logan', 'lerman', 'joana', 'joanna', 'michael', 'laura', 'alex', 'lester', 'ricky', \n",
    "                     'jan', 'carolyn', 'vincent', 'jerome', 'eugene', 'farrell', 'bob', 'charlotte', 'japan', 'los', \n",
    "                     'obre', 'ajos', 'tommy', 'ruth', 'cathy', 'roxanne', 'metro', 'steph', 'mikey', 'amedori', 'michelle', \n",
    "                     'dreamworks', 'superman', 'dan', 'patrick', 'never', 'let', 'me', 'go' ]\n",
    "\n",
    "stop_words = custom_stop_words + stopwords.words('english')"
   ]
  },
  {
   "cell_type": "code",
   "execution_count": 12,
   "metadata": {},
   "outputs": [],
   "source": [
    "docs_of_words = preprocess_documents(all_reviews)"
   ]
  },
  {
   "cell_type": "code",
   "execution_count": 13,
   "metadata": {},
   "outputs": [],
   "source": [
    "flat_docs = [' '.join(d) for d in docs_of_words]"
   ]
  },
  {
   "cell_type": "markdown",
   "metadata": {},
   "source": [
    "### Settings 1"
   ]
  },
  {
   "cell_type": "code",
   "execution_count": 14,
   "metadata": {},
   "outputs": [],
   "source": [
    "# Settings\n",
    "NUM_FEATURES = 1600\n",
    "NUM_TOPICS   = 20\n",
    "NUM_WORDS    = 15"
   ]
  },
  {
   "cell_type": "code",
   "execution_count": 15,
   "metadata": {},
   "outputs": [],
   "source": [
    "tf_vectorizer = TfidfVectorizer(max_features=NUM_FEATURES)\n",
    "tf = tf_vectorizer.fit_transform(flat_docs)\n",
    "tf_features = tf_vectorizer.get_feature_names()"
   ]
  },
  {
   "cell_type": "code",
   "execution_count": 16,
   "metadata": {},
   "outputs": [],
   "source": [
    "nmf = NMF(n_components=NUM_TOPICS, random_state=1, alpha=.1, l1_ratio=.4, init='nndsvd').fit(tf)"
   ]
  },
  {
   "cell_type": "code",
   "execution_count": 17,
   "metadata": {},
   "outputs": [
    {
     "name": "stdout",
     "output_type": "stream",
     "text": [
      "Topic 0: on real movie like think ev film life love people would act way see time\n",
      "Topic 1: film watch best story effect see direct mak great fiction writ top time characters seen\n",
      "Topic 2: soul comedy count mat rom meet side concept everyone wo main countdown want start sister\n",
      "Topic 3: wad western gang son outlaw ev char ranch print remake respect farm old great stagecoach\n",
      "Topic 4: oona implanted timers love father soulmate end rom borth meet true would future wrist moth\n",
      "Topic 5: rhoda planet mirror family killed car contest four burroughs accident released mit williams sundance year\n",
      "Topic 6: genet society science future fiction discrimination engineering id world effect valid dream subtle perfect view\n",
      "Topic 7: villain animation superhero animated kid 3d sup good enjoy hero despicable laugh bad popular also\n",
      "Topic 8: movie watch great best act good movies like seen always story on amazing wonderful enjoy\n",
      "Topic 9: origin ojos abre remake bet yes perform hard lat tries quality song good comp still\n",
      "Topic 10: jokes japanes karaoke insult song street silly thin horrible incredibly suit funny waste actress stupid\n",
      "Topic 11: book read adapt sad heard ishiguro kathy intrigued kid scene science left novel kazuo hailsham\n",
      "Topic 12: tempt marry husband couple cheat infidel attract truly women reed get simple day amazing wife\n",
      "Topic 13: imagination terrible lazy imagine leaving end audience writ bet want us movie family fan fantast\n",
      "Topic 14: america let different english hotel room talk back people karaoke sing eat street trip food\n",
      "Topic 15: jan angel suvari best cheerlead burnham ball inst men fit something 1999 daughter allison academy\n",
      "Topic 16: japanes yale whole extend moron loneliness hotel laugh tag convey boyfriend cheap pretentious bored force\n",
      "Topic 17: guy shoot bad gun good crow killer rid gang kill train horse would town gatling\n",
      "Topic 18: concept wasted times many felt great whole story something transform seen tells suddenly don predict\n",
      "Topic 19: rat movie masterpiece greater themes excel imdb awful genius ok interest av mindless idiot screenplay\n"
     ]
    }
   ],
   "source": [
    "nmf_topic_map = topics_to_map(nmf, tf_features, NUM_WORDS)\n",
    "display_topics(nmf, tf_features, NUM_WORDS)"
   ]
  },
  {
   "cell_type": "code",
   "execution_count": 18,
   "metadata": {},
   "outputs": [
    {
     "name": "stderr",
     "output_type": "stream",
     "text": [
      "D:\\Codeland\\Anaconda2\\lib\\site-packages\\sklearn\\decomposition\\online_lda.py:314: DeprecationWarning: n_topics has been renamed to n_components in version 0.19 and will be removed in 0.21\n",
      "  DeprecationWarning)\n"
     ]
    }
   ],
   "source": [
    "lda = LatentDirichletAllocation(n_topics=NUM_TOPICS, max_iter=50, learning_method='online', \n",
    "                                learning_offset=50.,random_state=0).fit(tf)"
   ]
  },
  {
   "cell_type": "code",
   "execution_count": 19,
   "metadata": {},
   "outputs": [
    {
     "name": "stdout",
     "output_type": "stream",
     "text": [
      "Topic 0: ev remain lust completely mix dot open scenes leaves kazuo combined device falling eq borth\n",
      "Topic 1: film movie western on wad ev good real act like guy watch great would see\n",
      "Topic 2: western remake on film movie origin fir like star mast thing story scenery word open\n",
      "Topic 3: film great root everything sex risk return dislike mean ranch tend el second bixby act\n",
      "Topic 4: vet 14 known tit dead crap expect root tot wrap baby pretty loyal acceptance remake\n",
      "Topic 5: rest vary oona farm slight entertain simply moved turn loser young willing show relationship necessary\n",
      "Topic 6: mat standard spirit problem surviving explored became doubt cent col cloth pass satire risk treated\n",
      "Topic 7: killer vet jump shoot rid gut members war decides civil free drink kill gam desert\n",
      "Topic 8: film thorough love explore real think movie enjoy including scene every terrific western screen end\n",
      "Topic 9: film undoubtedly part psychological planet struggle drag movie borth walk drama hollywood silence serious ok\n",
      "Topic 10: apaches yeah camp insult gun coach shoot gut dumb fir whit film bad script truly\n",
      "Topic 11: guy wad gun good outlaw fast gatling farm dog gang town ca would western film\n",
      "Topic 12: fashion kills nowadays loving much beyond simply anyway homophobic indeed jokes america imagination thus kept\n",
      "Topic 13: just 20 giving minutes bullet team killer scenario natural sent av rang coop ok killed\n",
      "Topic 14: method etc dram would woman food recent whole buffy loss nonetheless effect mentioned wonder coma\n",
      "Topic 15: film way story bad movie interest ev western would on act wad us bas vis\n",
      "Topic 16: movie act obviously set seen particularly get bland issues always shock known quest surface wonderful\n",
      "Topic 17: whos film visit cant families explain train reward soulmate fact fond dead however guy philosophy\n",
      "Topic 18: western en relationship modern complex cinematography movie direct 30 shock nice save support bored old\n",
      "Topic 19: worthy conversations takes progress losing superhero come wrong decision field towards talk prim good sometimes\n"
     ]
    }
   ],
   "source": [
    "display_topics(lda, tf_features, NUM_WORDS)"
   ]
  },
  {
   "cell_type": "code",
   "execution_count": 20,
   "metadata": {},
   "outputs": [
    {
     "name": "stdout",
     "output_type": "stream",
     "text": [
      "[t-SNE] Computing 91 nearest neighbors...\n",
      "[t-SNE] Indexed 274 samples in 0.001s...\n",
      "[t-SNE] Computed neighbors for 274 samples in 0.008s...\n",
      "[t-SNE] Computed conditional probabilities for sample 274 / 274\n",
      "[t-SNE] Mean sigma: 0.061779\n",
      "[t-SNE] KL divergence after 250 iterations with early exaggeration: 62.505375\n",
      "[t-SNE] KL divergence after 1000 iterations: 0.472961\n"
     ]
    }
   ],
   "source": [
    "topic_map = nmf.transform(tf)\n",
    "tsne_model = TSNE(n_components=2, verbose=1, random_state=0, angle=.99, init='pca')\n",
    "tsne_lda = tsne_model.fit_transform(topic_map)"
   ]
  },
  {
   "cell_type": "code",
   "execution_count": 21,
   "metadata": {},
   "outputs": [],
   "source": [
    "categories = review_urls.keys()"
   ]
  },
  {
   "cell_type": "code",
   "execution_count": 22,
   "metadata": {},
   "outputs": [],
   "source": [
    "# so for some reason, the categories vector winds up being 10 shorter than the other things... I think that's because the \n",
    "# divison here is doing some rounding (necessary to be able to loop through), so I'm \"manually\" adding in the extra 10\n",
    "# I'm really not sure this is the best way to do this, but it seems to work, so... neat?\n",
    "\n",
    "categories_vector = []\n",
    "\n",
    "xtra = 0\n",
    "this_cat_added = 0\n",
    "\n",
    "for c in categories:\n",
    "    this_cat_added = 0\n",
    "    for i in range(int(len(all_reviews) / len(categories))):\n",
    "        categories_vector.append(c)\n",
    "        if xtra < 10 and this_cat_added < 1:\n",
    "            categories_vector.append(c)\n",
    "            xtra += 1\n",
    "            this_cat_added = 1"
   ]
  },
  {
   "cell_type": "code",
   "execution_count": 23,
   "metadata": {},
   "outputs": [],
   "source": [
    "topics = [np.argmax(t) for t in nmf.transform(tf)]\n",
    "topics_val = [np.max(t) for t in nmf.transform(tf)]\n",
    "topics_txt = [nmf_topic_map[t] for t in topics]"
   ]
  },
  {
   "cell_type": "code",
   "execution_count": 24,
   "metadata": {},
   "outputs": [],
   "source": [
    "cat_df = pd.DataFrame({\n",
    "    'x': tsne_lda[:, 0],\n",
    "    'y': tsne_lda[:, 1],\n",
    "    'group': categories_vector,\n",
    "    'topic': topics,\n",
    "    'topics_txt': topics_txt,\n",
    "    'text': flat_docs\n",
    "})"
   ]
  },
  {
   "cell_type": "code",
   "execution_count": 25,
   "metadata": {},
   "outputs": [
    {
     "data": {
      "image/png": "[encoded data removed]",
      "text/plain": [
       "<Figure size 1080x576 with 1 Axes>"
      ]
     },
     "metadata": {
      "needs_background": "light"
     },
     "output_type": "display_data"
    }
   ],
   "source": [
    "sn.lmplot(x='x', y='y', fit_reg=False, data=cat_df, hue='group')\n",
    "plt.gcf().set_size_inches(15, 8)"
   ]
  },
  {
   "cell_type": "markdown",
   "metadata": {},
   "source": [
    "### Settings 2"
   ]
  },
  {
   "cell_type": "code",
   "execution_count": 26,
   "metadata": {},
   "outputs": [],
   "source": [
    "# Settings\n",
    "NUM_FEATURES = 1000\n",
    "NUM_TOPICS   = 6\n",
    "NUM_WORDS    = 10"
   ]
  },
  {
   "cell_type": "code",
   "execution_count": 27,
   "metadata": {},
   "outputs": [],
   "source": [
    "tf_vectorizer = TfidfVectorizer(max_features=NUM_FEATURES)\n",
    "tf = tf_vectorizer.fit_transform(flat_docs)\n",
    "tf_features = tf_vectorizer.get_feature_names()"
   ]
  },
  {
   "cell_type": "code",
   "execution_count": 28,
   "metadata": {},
   "outputs": [],
   "source": [
    "nmf = NMF(n_components=NUM_TOPICS, random_state=1, alpha=.1, l1_ratio=.4, init='nndsvd').fit(tf)"
   ]
  },
  {
   "cell_type": "code",
   "execution_count": 29,
   "metadata": {},
   "outputs": [
    {
     "name": "stdout",
     "output_type": "stream",
     "text": [
      "Topic 0: movie on real like act ev think would great life\n",
      "Topic 1: film science fiction direct effect us world see characters writ\n",
      "Topic 2: soul comedy rom count mat concept meet side main everyone\n",
      "Topic 3: wad western gang guy gun good bad outlaw son town\n",
      "Topic 4: oona timers love father end rom meet true would wear\n",
      "Topic 5: rhoda planet family mirror car killed four accident mit released\n"
     ]
    }
   ],
   "source": [
    "nmf_topic_map = topics_to_map(nmf, tf_features, NUM_WORDS)\n",
    "display_topics(nmf, tf_features, NUM_WORDS)"
   ]
  },
  {
   "cell_type": "code",
   "execution_count": 30,
   "metadata": {},
   "outputs": [
    {
     "name": "stderr",
     "output_type": "stream",
     "text": [
      "D:\\Codeland\\Anaconda2\\lib\\site-packages\\sklearn\\decomposition\\online_lda.py:314: DeprecationWarning: n_topics has been renamed to n_components in version 0.19 and will be removed in 0.21\n",
      "  DeprecationWarning)\n"
     ]
    }
   ],
   "source": [
    "lda = LatentDirichletAllocation(n_topics=NUM_TOPICS, max_iter=50, learning_method='online', \n",
    "                                learning_offset=50.,random_state=0).fit(tf)"
   ]
  },
  {
   "cell_type": "code",
   "execution_count": 31,
   "metadata": {},
   "outputs": [
    {
     "name": "stdout",
     "output_type": "stream",
     "text": [
      "Topic 0: end movie well timers look subtle sens commit real something\n",
      "Topic 1: just 20 giving minutes killer av ok rang coop killed\n",
      "Topic 2: movie film real act loved watch see yet thing awesome\n",
      "Topic 3: wad movie animated villain tells fast great poor us film\n",
      "Topic 4: shoot rid killer train gut gun guy poss gang war\n",
      "Topic 5: film movie western on wad ev real act good like\n"
     ]
    }
   ],
   "source": [
    "display_topics(lda, tf_features, NUM_WORDS)"
   ]
  },
  {
   "cell_type": "code",
   "execution_count": 32,
   "metadata": {},
   "outputs": [
    {
     "name": "stdout",
     "output_type": "stream",
     "text": [
      "[t-SNE] Computing 91 nearest neighbors...\n",
      "[t-SNE] Indexed 274 samples in 0.001s...\n",
      "[t-SNE] Computed neighbors for 274 samples in 0.006s...\n",
      "[t-SNE] Computed conditional probabilities for sample 274 / 274\n",
      "[t-SNE] Mean sigma: 0.022037\n",
      "[t-SNE] KL divergence after 250 iterations with early exaggeration: 59.690540\n",
      "[t-SNE] KL divergence after 950 iterations: 0.277850\n"
     ]
    }
   ],
   "source": [
    "topic_map = nmf.transform(tf)\n",
    "tsne_model = TSNE(n_components=2, verbose=1, random_state=0, angle=.99, init='pca')\n",
    "tsne_lda = tsne_model.fit_transform(topic_map)"
   ]
  },
  {
   "cell_type": "code",
   "execution_count": 33,
   "metadata": {},
   "outputs": [],
   "source": [
    "categories = review_urls.keys()"
   ]
  },
  {
   "cell_type": "code",
   "execution_count": 34,
   "metadata": {},
   "outputs": [],
   "source": [
    "categories_vector = []\n",
    "\n",
    "xtra = 0\n",
    "this_cat_added = 0\n",
    "\n",
    "for c in categories:\n",
    "    this_cat_added = 0\n",
    "    for i in range(int(len(all_reviews) / len(categories))):\n",
    "        categories_vector.append(c)\n",
    "        if xtra < 10 and this_cat_added < 1:\n",
    "            categories_vector.append(c)\n",
    "            xtra += 1\n",
    "            this_cat_added = 1"
   ]
  },
  {
   "cell_type": "code",
   "execution_count": 35,
   "metadata": {},
   "outputs": [],
   "source": [
    "topics = [np.argmax(t) for t in nmf.transform(tf)]\n",
    "topics_val = [np.max(t) for t in nmf.transform(tf)]\n",
    "topics_txt = [nmf_topic_map[t] for t in topics]"
   ]
  },
  {
   "cell_type": "code",
   "execution_count": 36,
   "metadata": {},
   "outputs": [],
   "source": [
    "cat_df = pd.DataFrame({\n",
    "    'x': tsne_lda[:, 0],\n",
    "    'y': tsne_lda[:, 1],\n",
    "    'group': categories_vector,\n",
    "    'topic': topics,\n",
    "    'topics_txt': topics_txt,\n",
    "    'text': flat_docs\n",
    "})"
   ]
  },
  {
   "cell_type": "code",
   "execution_count": 37,
   "metadata": {},
   "outputs": [
    {
     "data": {
      "image/png": "[encoded data removed]",
      "text/plain": [
       "<Figure size 1080x576 with 1 Axes>"
      ]
     },
     "metadata": {
      "needs_background": "light"
     },
     "output_type": "display_data"
    }
   ],
   "source": [
    "sn.lmplot(x='x', y='y', fit_reg=False, data=cat_df, hue='group')\n",
    "plt.gcf().set_size_inches(15, 8)"
   ]
  },
  {
   "cell_type": "code",
   "execution_count": null,
   "metadata": {},
   "outputs": [],
   "source": []
  }
 ],
 "metadata": {
  "kernelspec": {
   "display_name": "Python 3",
   "language": "python",
   "name": "python3"
  },
  "language_info": {
   "codemirror_mode": {
    "name": "ipython",
    "version": 3
   },
   "file_extension": ".py",
   "mimetype": "text/x-python",
   "name": "python",
   "nbconvert_exporter": "python",
   "pygments_lexer": "ipython3",
   "version": "3.6.9"
  }
 },
 "nbformat": 4,
 "nbformat_minor": 2
}
