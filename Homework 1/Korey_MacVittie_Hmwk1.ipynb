{
 "cells": [
  {
   "cell_type": "code",
   "execution_count": 1,
   "metadata": {},
   "outputs": [],
   "source": [
    "import nltk\n",
    "import sys"
   ]
  },
  {
   "cell_type": "code",
   "execution_count": 2,
   "metadata": {},
   "outputs": [],
   "source": [
    "# lexical_diversity\n",
    "def lexical_diversity(txt):\n",
    "    return len(set(txt)) / len(txt)"
   ]
  },
  {
   "cell_type": "code",
   "execution_count": 3,
   "metadata": {},
   "outputs": [
    {
     "name": "stdout",
     "output_type": "stream",
     "text": [
      "[nltk_data] Downloading package punkt to\n",
      "[nltk_data]     C:\\Users\\kmacvitt\\AppData\\Roaming\\nltk_data...\n",
      "[nltk_data]   Package punkt is already up-to-date!\n"
     ]
    },
    {
     "data": {
      "text/plain": [
       "True"
      ]
     },
     "execution_count": 3,
     "metadata": {},
     "output_type": "execute_result"
    }
   ],
   "source": [
    "# \"main\"\n",
    "nltk.download('punkt')"
   ]
  },
  {
   "cell_type": "code",
   "execution_count": 4,
   "metadata": {},
   "outputs": [],
   "source": [
    "file1 = './data/2.txt'\n",
    "file2 = './data/4.txt'\n",
    "file3 = './data/6.txt'"
   ]
  },
  {
   "cell_type": "code",
   "execution_count": 6,
   "metadata": {},
   "outputs": [
    {
     "name": "stderr",
     "output_type": "stream",
     "text": [
      "C:\\ProgramData\\Anaconda3\\lib\\site-packages\\ipykernel_launcher.py:1: DeprecationWarning: 'U' mode is deprecated\n",
      "  \"\"\"Entry point for launching an IPython kernel.\n",
      "C:\\ProgramData\\Anaconda3\\lib\\site-packages\\ipykernel_launcher.py:2: DeprecationWarning: 'U' mode is deprecated\n",
      "  \n",
      "C:\\ProgramData\\Anaconda3\\lib\\site-packages\\ipykernel_launcher.py:3: DeprecationWarning: 'U' mode is deprecated\n",
      "  This is separate from the ipykernel package so we can avoid doing imports until\n"
     ]
    }
   ],
   "source": [
    "f1 = open(file1, 'rU')\n",
    "f2 = open(file2, 'rU')\n",
    "f3 = open(file3, 'rU')"
   ]
  },
  {
   "cell_type": "code",
   "execution_count": 7,
   "metadata": {},
   "outputs": [],
   "source": [
    "raw = f1.read()\n",
    "tokens = nltk.word_tokenize(raw)\n",
    "txt1 = nltk.Text(tokens)"
   ]
  },
  {
   "cell_type": "code",
   "execution_count": 8,
   "metadata": {},
   "outputs": [],
   "source": [
    "raw = f2.read()\n",
    "tokens = nltk.word_tokenize(raw)\n",
    "txt2 = nltk.Text(tokens)"
   ]
  },
  {
   "cell_type": "code",
   "execution_count": 9,
   "metadata": {},
   "outputs": [],
   "source": [
    "raw = f3.read()\n",
    "tokens = nltk.word_tokenize(raw)\n",
    "txt3 = nltk.Text(tokens)"
   ]
  },
  {
   "cell_type": "code",
   "execution_count": 12,
   "metadata": {},
   "outputs": [
    {
     "name": "stdout",
     "output_type": "stream",
     "text": [
      "MACVITTIE - DS 7337 (NLP) - HOMEWORK 1\n",
      "\n",
      "-- Lexical Diversity --\n",
      "0.1598036110231232\n",
      "0.12341059405350653\n",
      "0.1009049879568786\n"
     ]
    }
   ],
   "source": [
    "print(\"MACVITTIE - DS 7337 (NLP) - HOMEWORK 1\\n\")\n",
    "\n",
    "print(\"-- Lexical Diversity --\")\n",
    "print(lexical_diversity(txt1))\n",
    "print(lexical_diversity(txt2))\n",
    "print(lexical_diversity(txt3))"
   ]
  },
  {
   "cell_type": "markdown",
   "metadata": {},
   "source": [
    "These results seem odd: one would expect a higher-grade \\\"reader\\\" to have more diversity in the words used than a lower-grade."
   ]
  },
  {
   "cell_type": "code",
   "execution_count": 14,
   "metadata": {},
   "outputs": [
    {
     "name": "stdout",
     "output_type": "stream",
     "text": [
      "\n",
      "-- Vocabulary Size --\n",
      "4036\n",
      "10356\n",
      "17260\n"
     ]
    }
   ],
   "source": [
    "print(\"\\n-- Vocabulary Size --\")\n",
    "print(len(set(txt1)))\n",
    "print(len(set(txt2)))\n",
    "print(len(set(txt3)))"
   ]
  },
  {
   "cell_type": "markdown",
   "metadata": {},
   "source": [
    "These results are not surprising. A higher-grade reader would be expected to have a stronger, larger vocabulary than a younger one."
   ]
  },
  {
   "cell_type": "code",
   "execution_count": 16,
   "metadata": {},
   "outputs": [
    {
     "name": "stdout",
     "output_type": "stream",
     "text": [
      "\n",
      "It seems fairly sensible that using multiple metrics is going to be more effective than using only one: the main concern, however, seems to be that lexical diversity seems paradoxical, in that as a text grows in length and presumably complexity, the apparent diversity decreases. I would presume that this is probably due to 'functional' words in English: connecting words like 'a' and 'the,' for instance, may appear more often in longer texts, effectively reducing their diversity even in the presence of an increased diversity in vocabulary. For an example, let's run those metrics on this answer:\n"
     ]
    }
   ],
   "source": [
    "q_ans = \"\\nIt seems fairly sensible that using multiple metrics is going to be more effective than using only one: the main concern, however, seems to be that lexical diversity seems paradoxical, in that as a text grows in length and presumably complexity, the apparent diversity decreases. I would presume that this is probably due to 'functional' words in English: connecting words like 'a' and 'the,' for instance, may appear more often in longer texts, effectively reducing their diversity even in the presence of an increased diversity in vocabulary. For an example, let's run those metrics on this answer:\"\n",
    "\n",
    "print(q_ans)"
   ]
  },
  {
   "cell_type": "code",
   "execution_count": 17,
   "metadata": {},
   "outputs": [
    {
     "name": "stdout",
     "output_type": "stream",
     "text": [
      "\n",
      "0.6666666666666666\n",
      "76\n"
     ]
    }
   ],
   "source": [
    "tokens = nltk.word_tokenize(q_ans)\n",
    "q_txt = nltk.Text(tokens)\n",
    "\n",
    "print(\"\")\n",
    "print(lexical_diversity(q_txt))\n",
    "print(len(set(q_txt)))"
   ]
  },
  {
   "cell_type": "code",
   "execution_count": null,
   "metadata": {},
   "outputs": [],
   "source": []
  }
 ],
 "metadata": {
  "kernelspec": {
   "display_name": "Python 3",
   "language": "python",
   "name": "python3"
  },
  "language_info": {
   "codemirror_mode": {
    "name": "ipython",
    "version": 3
   },
   "file_extension": ".py",
   "mimetype": "text/x-python",
   "name": "python",
   "nbconvert_exporter": "python",
   "pygments_lexer": "ipython3",
   "version": "3.6.6"
  }
 },
 "nbformat": 4,
 "nbformat_minor": 2
}
